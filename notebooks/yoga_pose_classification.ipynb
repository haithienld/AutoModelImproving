{
 "cells": [
  {
   "cell_type": "markdown",
   "metadata": {},
   "source": [
    "# Identifying Yoga Poses"
   ]
  },
  {
   "cell_type": "markdown",
   "metadata": {},
   "source": [
    "We've collected a few samples for each pose we'd like to categorize, and we need to learn how to identify which pose the user is in. We first used our tflite convolutional pose machine model to obtain a graphical representation of the poses we collected. This will produce a 28 point array of the various body part coordinates in each sample. We'll save this array along with its correct pose label to construct a dataset. First, let's import all the libraries we'll be using."
   ]
  },
  {
   "cell_type": "code",
   "execution_count": 1,
   "metadata": {},
   "outputs": [],
   "source": [
    "%matplotlib inline\n",
    "\n",
    "import pickle\n",
    "import multiprocessing\n",
    "import numpy as np\n",
    "import pandas as pd\n",
    "import xgboost as xgb\n",
    "import matplotlib.pyplot as plt\n",
    "from xgboost import XGBClassifier\n",
    "from sklearn.model_selection import train_test_split\n",
    "from sklearn.metrics import confusion_matrix"
   ]
  },
  {
   "cell_type": "markdown",
   "metadata": {},
   "source": [
    "Let's load our data and take a peak at what those samples look like."
   ]
  },
  {
   "cell_type": "markdown",
   "metadata": {},
   "source": [
    "Format the data so we can feed it to a model."
   ]
  },
  {
   "cell_type": "code",
   "execution_count": 2,
   "metadata": {},
   "outputs": [
    {
     "data": {
      "text/html": [
       "<div>\n",
       "<style scoped>\n",
       "    .dataframe tbody tr th:only-of-type {\n",
       "        vertical-align: middle;\n",
       "    }\n",
       "\n",
       "    .dataframe tbody tr th {\n",
       "        vertical-align: top;\n",
       "    }\n",
       "\n",
       "    .dataframe thead th {\n",
       "        text-align: right;\n",
       "    }\n",
       "</style>\n",
       "<table border=\"1\" class=\"dataframe\">\n",
       "  <thead>\n",
       "    <tr style=\"text-align: right;\">\n",
       "      <th></th>\n",
       "      <th>0</th>\n",
       "      <th>1</th>\n",
       "      <th>2</th>\n",
       "      <th>3</th>\n",
       "      <th>4</th>\n",
       "      <th>5</th>\n",
       "      <th>6</th>\n",
       "      <th>7</th>\n",
       "      <th>8</th>\n",
       "      <th>9</th>\n",
       "      <th>...</th>\n",
       "      <th>27</th>\n",
       "      <th>28</th>\n",
       "      <th>29</th>\n",
       "      <th>30</th>\n",
       "      <th>31</th>\n",
       "      <th>32</th>\n",
       "      <th>33</th>\n",
       "      <th>34</th>\n",
       "      <th>35</th>\n",
       "      <th>36</th>\n",
       "    </tr>\n",
       "  </thead>\n",
       "  <tbody>\n",
       "    <tr>\n",
       "      <th>0</th>\n",
       "      <td>0</td>\n",
       "      <td>2021-03-04 07:49:34.101581</td>\n",
       "      <td>364</td>\n",
       "      <td>116</td>\n",
       "      <td>370</td>\n",
       "      <td>110</td>\n",
       "      <td>357</td>\n",
       "      <td>111</td>\n",
       "      <td>377</td>\n",
       "      <td>114</td>\n",
       "      <td>...</td>\n",
       "      <td>237</td>\n",
       "      <td>387</td>\n",
       "      <td>293</td>\n",
       "      <td>355</td>\n",
       "      <td>295</td>\n",
       "      <td>389</td>\n",
       "      <td>351</td>\n",
       "      <td>359</td>\n",
       "      <td>352</td>\n",
       "      <td>standing</td>\n",
       "    </tr>\n",
       "    <tr>\n",
       "      <th>1</th>\n",
       "      <td>1</td>\n",
       "      <td>2021-03-04 07:49:34.508453</td>\n",
       "      <td>364</td>\n",
       "      <td>116</td>\n",
       "      <td>370</td>\n",
       "      <td>111</td>\n",
       "      <td>356</td>\n",
       "      <td>112</td>\n",
       "      <td>377</td>\n",
       "      <td>115</td>\n",
       "      <td>...</td>\n",
       "      <td>237</td>\n",
       "      <td>388</td>\n",
       "      <td>293</td>\n",
       "      <td>354</td>\n",
       "      <td>297</td>\n",
       "      <td>389</td>\n",
       "      <td>351</td>\n",
       "      <td>359</td>\n",
       "      <td>352</td>\n",
       "      <td>standing</td>\n",
       "    </tr>\n",
       "    <tr>\n",
       "      <th>2</th>\n",
       "      <td>2</td>\n",
       "      <td>2021-03-04 07:49:34.663372</td>\n",
       "      <td>364</td>\n",
       "      <td>116</td>\n",
       "      <td>370</td>\n",
       "      <td>111</td>\n",
       "      <td>356</td>\n",
       "      <td>111</td>\n",
       "      <td>377</td>\n",
       "      <td>115</td>\n",
       "      <td>...</td>\n",
       "      <td>238</td>\n",
       "      <td>388</td>\n",
       "      <td>294</td>\n",
       "      <td>354</td>\n",
       "      <td>297</td>\n",
       "      <td>390</td>\n",
       "      <td>350</td>\n",
       "      <td>359</td>\n",
       "      <td>351</td>\n",
       "      <td>standing</td>\n",
       "    </tr>\n",
       "    <tr>\n",
       "      <th>3</th>\n",
       "      <td>3</td>\n",
       "      <td>2021-03-04 07:49:34.801668</td>\n",
       "      <td>364</td>\n",
       "      <td>117</td>\n",
       "      <td>370</td>\n",
       "      <td>111</td>\n",
       "      <td>356</td>\n",
       "      <td>112</td>\n",
       "      <td>377</td>\n",
       "      <td>115</td>\n",
       "      <td>...</td>\n",
       "      <td>238</td>\n",
       "      <td>388</td>\n",
       "      <td>293</td>\n",
       "      <td>354</td>\n",
       "      <td>297</td>\n",
       "      <td>390</td>\n",
       "      <td>350</td>\n",
       "      <td>359</td>\n",
       "      <td>351</td>\n",
       "      <td>standing</td>\n",
       "    </tr>\n",
       "    <tr>\n",
       "      <th>4</th>\n",
       "      <td>4</td>\n",
       "      <td>2021-03-04 07:49:34.982699</td>\n",
       "      <td>364</td>\n",
       "      <td>117</td>\n",
       "      <td>370</td>\n",
       "      <td>111</td>\n",
       "      <td>357</td>\n",
       "      <td>112</td>\n",
       "      <td>377</td>\n",
       "      <td>115</td>\n",
       "      <td>...</td>\n",
       "      <td>238</td>\n",
       "      <td>388</td>\n",
       "      <td>293</td>\n",
       "      <td>354</td>\n",
       "      <td>297</td>\n",
       "      <td>389</td>\n",
       "      <td>351</td>\n",
       "      <td>359</td>\n",
       "      <td>351</td>\n",
       "      <td>standing</td>\n",
       "    </tr>\n",
       "    <tr>\n",
       "      <th>...</th>\n",
       "      <td>...</td>\n",
       "      <td>...</td>\n",
       "      <td>...</td>\n",
       "      <td>...</td>\n",
       "      <td>...</td>\n",
       "      <td>...</td>\n",
       "      <td>...</td>\n",
       "      <td>...</td>\n",
       "      <td>...</td>\n",
       "      <td>...</td>\n",
       "      <td>...</td>\n",
       "      <td>...</td>\n",
       "      <td>...</td>\n",
       "      <td>...</td>\n",
       "      <td>...</td>\n",
       "      <td>...</td>\n",
       "      <td>...</td>\n",
       "      <td>...</td>\n",
       "      <td>...</td>\n",
       "      <td>...</td>\n",
       "      <td>...</td>\n",
       "    </tr>\n",
       "    <tr>\n",
       "      <th>1819</th>\n",
       "      <td>416</td>\n",
       "      <td>2021-03-04 08:06:22.372943</td>\n",
       "      <td>301</td>\n",
       "      <td>158</td>\n",
       "      <td>306</td>\n",
       "      <td>152</td>\n",
       "      <td>298</td>\n",
       "      <td>153</td>\n",
       "      <td>320</td>\n",
       "      <td>150</td>\n",
       "      <td>...</td>\n",
       "      <td>254</td>\n",
       "      <td>320</td>\n",
       "      <td>304</td>\n",
       "      <td>319</td>\n",
       "      <td>303</td>\n",
       "      <td>337</td>\n",
       "      <td>362</td>\n",
       "      <td>338</td>\n",
       "      <td>361</td>\n",
       "      <td>squat_right</td>\n",
       "    </tr>\n",
       "    <tr>\n",
       "      <th>1820</th>\n",
       "      <td>417</td>\n",
       "      <td>2021-03-04 08:06:22.537820</td>\n",
       "      <td>298</td>\n",
       "      <td>171</td>\n",
       "      <td>305</td>\n",
       "      <td>163</td>\n",
       "      <td>296</td>\n",
       "      <td>165</td>\n",
       "      <td>317</td>\n",
       "      <td>162</td>\n",
       "      <td>...</td>\n",
       "      <td>261</td>\n",
       "      <td>316</td>\n",
       "      <td>308</td>\n",
       "      <td>314</td>\n",
       "      <td>307</td>\n",
       "      <td>335</td>\n",
       "      <td>362</td>\n",
       "      <td>339</td>\n",
       "      <td>362</td>\n",
       "      <td>squat_right</td>\n",
       "    </tr>\n",
       "    <tr>\n",
       "      <th>1821</th>\n",
       "      <td>418</td>\n",
       "      <td>2021-03-04 08:06:22.675403</td>\n",
       "      <td>299</td>\n",
       "      <td>180</td>\n",
       "      <td>304</td>\n",
       "      <td>175</td>\n",
       "      <td>296</td>\n",
       "      <td>175</td>\n",
       "      <td>318</td>\n",
       "      <td>172</td>\n",
       "      <td>...</td>\n",
       "      <td>268</td>\n",
       "      <td>312</td>\n",
       "      <td>309</td>\n",
       "      <td>311</td>\n",
       "      <td>308</td>\n",
       "      <td>334</td>\n",
       "      <td>362</td>\n",
       "      <td>339</td>\n",
       "      <td>361</td>\n",
       "      <td>squat_right</td>\n",
       "    </tr>\n",
       "    <tr>\n",
       "      <th>1822</th>\n",
       "      <td>419</td>\n",
       "      <td>2021-03-04 08:06:22.835210</td>\n",
       "      <td>295</td>\n",
       "      <td>187</td>\n",
       "      <td>303</td>\n",
       "      <td>180</td>\n",
       "      <td>292</td>\n",
       "      <td>181</td>\n",
       "      <td>316</td>\n",
       "      <td>178</td>\n",
       "      <td>...</td>\n",
       "      <td>274</td>\n",
       "      <td>312</td>\n",
       "      <td>310</td>\n",
       "      <td>309</td>\n",
       "      <td>309</td>\n",
       "      <td>336</td>\n",
       "      <td>361</td>\n",
       "      <td>338</td>\n",
       "      <td>360</td>\n",
       "      <td>squat_right</td>\n",
       "    </tr>\n",
       "    <tr>\n",
       "      <th>1823</th>\n",
       "      <td>420</td>\n",
       "      <td>2021-03-04 08:06:23.003583</td>\n",
       "      <td>295</td>\n",
       "      <td>191</td>\n",
       "      <td>301</td>\n",
       "      <td>185</td>\n",
       "      <td>291</td>\n",
       "      <td>186</td>\n",
       "      <td>316</td>\n",
       "      <td>182</td>\n",
       "      <td>...</td>\n",
       "      <td>277</td>\n",
       "      <td>311</td>\n",
       "      <td>312</td>\n",
       "      <td>308</td>\n",
       "      <td>311</td>\n",
       "      <td>336</td>\n",
       "      <td>361</td>\n",
       "      <td>339</td>\n",
       "      <td>360</td>\n",
       "      <td>squat_right</td>\n",
       "    </tr>\n",
       "  </tbody>\n",
       "</table>\n",
       "<p>1824 rows × 37 columns</p>\n",
       "</div>"
      ],
      "text/plain": [
       "       0                           1    2    3    4    5    6    7    8    9   \\\n",
       "0       0  2021-03-04 07:49:34.101581  364  116  370  110  357  111  377  114   \n",
       "1       1  2021-03-04 07:49:34.508453  364  116  370  111  356  112  377  115   \n",
       "2       2  2021-03-04 07:49:34.663372  364  116  370  111  356  111  377  115   \n",
       "3       3  2021-03-04 07:49:34.801668  364  117  370  111  356  112  377  115   \n",
       "4       4  2021-03-04 07:49:34.982699  364  117  370  111  357  112  377  115   \n",
       "...   ...                         ...  ...  ...  ...  ...  ...  ...  ...  ...   \n",
       "1819  416  2021-03-04 08:06:22.372943  301  158  306  152  298  153  320  150   \n",
       "1820  417  2021-03-04 08:06:22.537820  298  171  305  163  296  165  317  162   \n",
       "1821  418  2021-03-04 08:06:22.675403  299  180  304  175  296  175  318  172   \n",
       "1822  419  2021-03-04 08:06:22.835210  295  187  303  180  292  181  316  178   \n",
       "1823  420  2021-03-04 08:06:23.003583  295  191  301  185  291  186  316  182   \n",
       "\n",
       "      ...   27   28   29   30   31   32   33   34   35           36  \n",
       "0     ...  237  387  293  355  295  389  351  359  352     standing  \n",
       "1     ...  237  388  293  354  297  389  351  359  352     standing  \n",
       "2     ...  238  388  294  354  297  390  350  359  351     standing  \n",
       "3     ...  238  388  293  354  297  390  350  359  351     standing  \n",
       "4     ...  238  388  293  354  297  389  351  359  351     standing  \n",
       "...   ...  ...  ...  ...  ...  ...  ...  ...  ...  ...          ...  \n",
       "1819  ...  254  320  304  319  303  337  362  338  361  squat_right  \n",
       "1820  ...  261  316  308  314  307  335  362  339  362  squat_right  \n",
       "1821  ...  268  312  309  311  308  334  362  339  361  squat_right  \n",
       "1822  ...  274  312  310  309  309  336  361  338  360  squat_right  \n",
       "1823  ...  277  311  312  308  311  336  361  339  360  squat_right  \n",
       "\n",
       "[1824 rows x 37 columns]"
      ]
     },
     "execution_count": 2,
     "metadata": {},
     "output_type": "execute_result"
    }
   ],
   "source": [
    "dataset = pd.read_csv('poses.csv', header = None )#(index_col=0)\n",
    "dataset"
   ]
  },
  {
   "cell_type": "code",
   "execution_count": 3,
   "metadata": {},
   "outputs": [
    {
     "data": {
      "text/plain": [
       "(array([[364, 116, 370, ..., 351, 359, 352],\n",
       "        [364, 116, 370, ..., 351, 359, 352],\n",
       "        [364, 116, 370, ..., 350, 359, 351],\n",
       "        ...,\n",
       "        [299, 180, 304, ..., 362, 339, 361],\n",
       "        [295, 187, 303, ..., 361, 338, 360],\n",
       "        [295, 191, 301, ..., 361, 339, 360]]),\n",
       " array(['standing', 'standing', 'standing', ..., 'squat_right',\n",
       "        'squat_right', 'squat_right'], dtype=object))"
      ]
     },
     "execution_count": 3,
     "metadata": {},
     "output_type": "execute_result"
    }
   ],
   "source": [
    "# Spliting the points and the labels\n",
    "#with file poses_standard.csv 36 column\n",
    "#X = dataset.iloc[:, 2:-1].values  \n",
    "#y = dataset.iloc[:, 36].values\n",
    "#with file poses 38 column\n",
    "X = dataset.iloc[:, 2:-1].values  \n",
    "y = dataset.iloc[:, 36].values\n",
    "X,y"
   ]
  },
  {
   "cell_type": "code",
   "execution_count": 4,
   "metadata": {},
   "outputs": [
    {
     "data": {
      "text/plain": [
       "((1641, 34), (1641,), (183, 34), (183,))"
      ]
     },
     "execution_count": 4,
     "metadata": {},
     "output_type": "execute_result"
    }
   ],
   "source": [
    "# And split the data into appropriate data sets\n",
    "X_train, X_test, y_train, y_test = train_test_split(X, y, test_size=0.10) \n",
    "X_test\n",
    "X_train.shape,y_train.shape,X_test.shape,y_test.shape"
   ]
  },
  {
   "cell_type": "code",
   "execution_count": 5,
   "metadata": {},
   "outputs": [
    {
     "data": {
      "text/plain": [
       "4"
      ]
     },
     "execution_count": 5,
     "metadata": {},
     "output_type": "execute_result"
    }
   ],
   "source": [
    "class_names = list(set(y))\n",
    "num_class = len(class_names)\n",
    "cores = multiprocessing.cpu_count()\n",
    "num_class"
   ]
  },
  {
   "cell_type": "markdown",
   "metadata": {},
   "source": [
    "Our data is ready to feed it to a model! Our first approach will be to classify which pose the user is currently in. If the user is not in the correct pose, we'll give them some advice on how to execute it. As we progress, we'll want to think about how to evaluate the user's pose, ie. how well are they execuring the pose. But for now, let's just determine if a user is in the right pose.\n",
    "\n",
    "We'll try XGBoost. This algorithm is an implementation of gradient boosted decision trees. It ensembles many decision trees into one model - making it more accurate as a collection of trees.\n",
    "\n",
    "XGBoost is very fast and it has more parameters to tune to improve the model. Feel free to pay with the learning_rate, n_estimators, etc to get better results. Also keep in mind that more data never hurts."
   ]
  },
  {
   "cell_type": "code",
   "execution_count": 6,
   "metadata": {},
   "outputs": [],
   "source": [
    "clf = XGBClassifier(max_depth=6, \n",
    "                    learning_rate=0.01, \n",
    "                    n_estimators=500, \n",
    "                    objective='multi:softmax', \n",
    "                    n_jobs=cores, \n",
    "                    num_class=num_class)"
   ]
  },
  {
   "cell_type": "code",
   "execution_count": 7,
   "metadata": {},
   "outputs": [
    {
     "name": "stderr",
     "output_type": "stream",
     "text": [
      "/home/tommy/anaconda3/envs/inf/lib/python3.7/site-packages/xgboost/sklearn.py:888: UserWarning: The use of label encoder in XGBClassifier is deprecated and will be removed in a future release. To remove this warning, do the following: 1) Pass option use_label_encoder=False when constructing XGBClassifier object; and 2) Encode your labels (y) as integers starting with 0, i.e. 0, 1, 2, ..., [num_class - 1].\n",
      "  warnings.warn(label_encoder_deprecation_msg, UserWarning)\n"
     ]
    },
    {
     "name": "stdout",
     "output_type": "stream",
     "text": [
      "[12:51:44] WARNING: ../src/learner.cc:1061: Starting in XGBoost 1.3.0, the default evaluation metric used with the objective 'multi:softprob' was changed from 'merror' to 'mlogloss'. Explicitly set eval_metric if you'd like to restore the old behavior.\n"
     ]
    }
   ],
   "source": [
    "from sklearn.metrics import accuracy_score\n",
    "\n",
    "model = XGBClassifier()\n",
    "model.fit(X_train, y_train)\n",
    "# make predictions for test data\n",
    "y_pred = model.predict(X_test)\n",
    "predictions = [value for value in y_pred]\n",
    "# evaluate predictions\n",
    "accuracy = accuracy_score(y_test, predictions)"
   ]
  },
  {
   "cell_type": "code",
   "execution_count": 8,
   "metadata": {},
   "outputs": [
    {
     "name": "stderr",
     "output_type": "stream",
     "text": [
      "/home/tommy/anaconda3/envs/inf/lib/python3.7/site-packages/xgboost/sklearn.py:888: UserWarning: The use of label encoder in XGBClassifier is deprecated and will be removed in a future release. To remove this warning, do the following: 1) Pass option use_label_encoder=False when constructing XGBClassifier object; and 2) Encode your labels (y) as integers starting with 0, i.e. 0, 1, 2, ..., [num_class - 1].\n",
      "  warnings.warn(label_encoder_deprecation_msg, UserWarning)\n"
     ]
    },
    {
     "name": "stdout",
     "output_type": "stream",
     "text": [
      "[12:51:50] WARNING: ../src/learner.cc:1061: Starting in XGBoost 1.3.0, the default evaluation metric used with the objective 'multi:softprob' was changed from 'merror' to 'mlogloss'. Explicitly set eval_metric if you'd like to restore the old behavior.\n"
     ]
    },
    {
     "data": {
      "text/plain": [
       "['squat_left',\n",
       " 'stretch',\n",
       " 'squat_right',\n",
       " 'stretch',\n",
       " 'stretch',\n",
       " 'stretch',\n",
       " 'stretch',\n",
       " 'standing',\n",
       " 'stretch',\n",
       " 'standing',\n",
       " 'standing',\n",
       " 'squat_left',\n",
       " 'squat_left',\n",
       " 'squat_left',\n",
       " 'standing',\n",
       " 'standing',\n",
       " 'squat_left',\n",
       " 'stretch',\n",
       " 'stretch',\n",
       " 'standing',\n",
       " 'squat_right',\n",
       " 'stretch',\n",
       " 'stretch',\n",
       " 'standing',\n",
       " 'stretch',\n",
       " 'squat_left',\n",
       " 'standing',\n",
       " 'squat_right',\n",
       " 'stretch',\n",
       " 'squat_left',\n",
       " 'standing',\n",
       " 'squat_right',\n",
       " 'standing',\n",
       " 'stretch',\n",
       " 'standing',\n",
       " 'stretch',\n",
       " 'stretch',\n",
       " 'squat_right',\n",
       " 'squat_left',\n",
       " 'squat_right',\n",
       " 'stretch',\n",
       " 'standing',\n",
       " 'standing',\n",
       " 'stretch',\n",
       " 'standing',\n",
       " 'squat_left',\n",
       " 'squat_right',\n",
       " 'standing',\n",
       " 'standing',\n",
       " 'standing',\n",
       " 'squat_left',\n",
       " 'squat_right',\n",
       " 'squat_right',\n",
       " 'stretch',\n",
       " 'standing',\n",
       " 'standing',\n",
       " 'stretch',\n",
       " 'squat_left',\n",
       " 'squat_left',\n",
       " 'standing',\n",
       " 'standing',\n",
       " 'stretch',\n",
       " 'standing',\n",
       " 'standing',\n",
       " 'squat_right',\n",
       " 'standing',\n",
       " 'squat_left',\n",
       " 'squat_left',\n",
       " 'squat_right',\n",
       " 'stretch',\n",
       " 'squat_right',\n",
       " 'standing',\n",
       " 'standing',\n",
       " 'squat_right',\n",
       " 'squat_left',\n",
       " 'squat_right',\n",
       " 'standing',\n",
       " 'squat_right',\n",
       " 'standing',\n",
       " 'stretch',\n",
       " 'stretch',\n",
       " 'stretch',\n",
       " 'squat_right',\n",
       " 'stretch',\n",
       " 'stretch',\n",
       " 'squat_right',\n",
       " 'squat_left',\n",
       " 'standing',\n",
       " 'squat_left',\n",
       " 'stretch',\n",
       " 'standing',\n",
       " 'squat_right',\n",
       " 'squat_left',\n",
       " 'squat_left',\n",
       " 'squat_left',\n",
       " 'squat_left',\n",
       " 'stretch',\n",
       " 'standing',\n",
       " 'standing',\n",
       " 'squat_right',\n",
       " 'standing',\n",
       " 'squat_right',\n",
       " 'squat_right',\n",
       " 'squat_right',\n",
       " 'squat_right',\n",
       " 'standing',\n",
       " 'squat_left',\n",
       " 'stretch',\n",
       " 'squat_right',\n",
       " 'squat_left',\n",
       " 'standing',\n",
       " 'standing',\n",
       " 'standing',\n",
       " 'squat_left',\n",
       " 'stretch',\n",
       " 'squat_left',\n",
       " 'stretch',\n",
       " 'standing',\n",
       " 'squat_right',\n",
       " 'stretch',\n",
       " 'squat_right',\n",
       " 'squat_left',\n",
       " 'squat_left',\n",
       " 'standing',\n",
       " 'standing',\n",
       " 'stretch',\n",
       " 'standing',\n",
       " 'standing',\n",
       " 'standing',\n",
       " 'stretch',\n",
       " 'squat_right',\n",
       " 'standing',\n",
       " 'standing',\n",
       " 'squat_right',\n",
       " 'squat_right',\n",
       " 'standing',\n",
       " 'stretch',\n",
       " 'standing',\n",
       " 'squat_left',\n",
       " 'squat_left',\n",
       " 'stretch',\n",
       " 'stretch',\n",
       " 'stretch',\n",
       " 'standing',\n",
       " 'standing',\n",
       " 'squat_right',\n",
       " 'standing',\n",
       " 'squat_left',\n",
       " 'squat_right',\n",
       " 'squat_left',\n",
       " 'standing',\n",
       " 'standing',\n",
       " 'standing',\n",
       " 'squat_right',\n",
       " 'stretch',\n",
       " 'squat_right',\n",
       " 'squat_right',\n",
       " 'squat_right',\n",
       " 'squat_left',\n",
       " 'stretch',\n",
       " 'squat_right',\n",
       " 'stretch',\n",
       " 'standing',\n",
       " 'squat_left',\n",
       " 'squat_right',\n",
       " 'standing',\n",
       " 'stretch',\n",
       " 'squat_left',\n",
       " 'standing',\n",
       " 'squat_right',\n",
       " 'stretch',\n",
       " 'standing',\n",
       " 'standing',\n",
       " 'squat_right',\n",
       " 'standing',\n",
       " 'squat_left',\n",
       " 'squat_left',\n",
       " 'squat_left',\n",
       " 'standing',\n",
       " 'stretch',\n",
       " 'standing',\n",
       " 'squat_right',\n",
       " 'standing']"
      ]
     },
     "execution_count": 8,
     "metadata": {},
     "output_type": "execute_result"
    }
   ],
   "source": [
    "clf.fit(X_train, y_train)\n",
    "preds = clf.predict(X_test)\n",
    "predictions = [value for value in preds]\n",
    "predictions"
   ]
  },
  {
   "cell_type": "markdown",
   "metadata": {},
   "source": [
    "We can see how well the model is grouping samples by printing the confusion matrix of the model. The confusion matrix will show us how often the model gets confused about a sample and misclassifies it AND to what it misclassifies.\n",
    "\n",
    "We'll also look at the classification report which will give us the recall and precision among other stats for each label"
   ]
  },
  {
   "cell_type": "code",
   "execution_count": 9,
   "metadata": {},
   "outputs": [
    {
     "name": "stdout",
     "output_type": "stream",
     "text": [
      "[[37  0  0  0]\n",
      " [ 0 40  0  0]\n",
      " [ 0  0 62  0]\n",
      " [ 0  0  0 44]]\n",
      "              precision    recall  f1-score   support\n",
      "\n",
      "  squat_left       1.00      1.00      1.00        37\n",
      " squat_right       1.00      1.00      1.00        40\n",
      "    standing       1.00      1.00      1.00        62\n",
      "     stretch       1.00      1.00      1.00        44\n",
      "\n",
      "    accuracy                           1.00       183\n",
      "   macro avg       1.00      1.00      1.00       183\n",
      "weighted avg       1.00      1.00      1.00       183\n",
      "\n"
     ]
    }
   ],
   "source": [
    "from sklearn.metrics import confusion_matrix, classification_report\n",
    "\n",
    "conf_matrix = confusion_matrix(y_test, preds)\n",
    "print(conf_matrix)\n",
    "\n",
    "class_report = classification_report(y_test, preds)\n",
    "print(class_report)"
   ]
  },
  {
   "cell_type": "code",
   "execution_count": 10,
   "metadata": {},
   "outputs": [
    {
     "data": {
      "text/plain": [
       "['squat_left']"
      ]
     },
     "execution_count": 10,
     "metadata": {},
     "output_type": "execute_result"
    }
   ],
   "source": [
    "preds = clf.predict(X_test[[0]])\n",
    "predictions = [value for value in preds]\n",
    "predictions"
   ]
  },
  {
   "cell_type": "markdown",
   "metadata": {},
   "source": [
    "And to get a better view let's graph the confusion matrix."
   ]
  },
  {
   "cell_type": "code",
   "execution_count": 11,
   "metadata": {},
   "outputs": [],
   "source": [
    "import itertools\n",
    "from sklearn.metrics import plot_confusion_matrix\n",
    "def plot_confusion_matrix(cm, classes,\n",
    "                          normalize=True,\n",
    "                          title='Confusion matrix',\n",
    "                          cmap=plt.cm.Blues):\n",
    "    \"\"\"\n",
    "    This function prints and plots the confusion matrix.\n",
    "    Normalization can be applied by setting `normalize=True`.\n",
    "    \"\"\"\n",
    "    if normalize:\n",
    "        cm = cm.astype('float') / cm.sum(axis=1)[:, np.newaxis]\n",
    "\n",
    "    plt.imshow(cm, interpolation='nearest', cmap=cmap, aspect='auto')\n",
    "    plt.title(title)\n",
    "    plt.colorbar()\n",
    "    tick_marks = np.arange(len(classes))\n",
    "    plt.xticks(tick_marks, rotation=45)\n",
    "    plt.yticks(tick_marks)\n",
    "\n",
    "    plt.ylabel('True label')\n",
    "    plt.xlabel('Predicted label')\n",
    "    plt.tight_layout()"
   ]
  },
  {
   "cell_type": "code",
   "execution_count": 12,
   "metadata": {
    "scrolled": true
   },
   "outputs": [
    {
     "data": {
      "image/png": "[encoded data removed]",
      "text/plain": [
       "<Figure size 432x288 with 2 Axes>"
      ]
     },
     "metadata": {
      "needs_background": "light"
     },
     "output_type": "display_data"
    },
    {
     "name": "stdout",
     "output_type": "stream",
     "text": [
      "Classes:  ['squat_left', 'squat_right', 'standing', 'stretch']\n"
     ]
    }
   ],
   "source": [
    "plot_confusion_matrix(conf_matrix, classes=sorted(class_names), normalize=True,\n",
    "                      title='Normalized confusion matrix')\n",
    "plt.show()\n",
    "print('Classes: ', sorted(class_names))"
   ]
  },
  {
   "cell_type": "markdown",
   "metadata": {},
   "source": [
    "Dark blue on the diagonal is what we're aiming for. We can see the model is really good at predicting tree_pose but warrior_1 gets confused with crescent_lunge and warrior_3 poses. However, this is a great start classifying a handful of distinct poses. We want to save the model to file so we can run inference while our virtual instructor is running."
   ]
  },
  {
   "cell_type": "code",
   "execution_count": 20,
   "metadata": {},
   "outputs": [],
   "source": [
    "filename = '../models/yoga_poses.sav'\n",
    "pickle.dump(clf, open(filename, 'wb'))"
   ]
  },
  {
   "cell_type": "code",
   "execution_count": 14,
   "metadata": {},
   "outputs": [],
   "source": [
    "xgb_model_loaded = pickle.load(open(filename, \"rb\"))"
   ]
  },
  {
   "cell_type": "code",
   "execution_count": 15,
   "metadata": {},
   "outputs": [],
   "source": [
    "preds = xgb_model_loaded.predict(X_test[[0]])\n",
    "predictions = [value for value in preds]"
   ]
  },
  {
   "cell_type": "code",
   "execution_count": 16,
   "metadata": {},
   "outputs": [
    {
     "data": {
      "text/plain": [
       "['squat_left']"
      ]
     },
     "execution_count": 16,
     "metadata": {},
     "output_type": "execute_result"
    }
   ],
   "source": [
    "predictions"
   ]
  },
  {
   "cell_type": "code",
   "execution_count": 17,
   "metadata": {},
   "outputs": [
    {
     "data": {
      "text/plain": [
       "array([[363, 154, 363, 149, 358, 149,   0,   0, 341, 155, 336, 173, 341,\n",
       "        176, 395, 179, 390, 178, 432, 175, 433, 175, 322, 264, 325, 266,\n",
       "        367, 308, 370, 310, 347, 369, 351, 370]])"
      ]
     },
     "execution_count": 17,
     "metadata": {},
     "output_type": "execute_result"
    }
   ],
   "source": [
    "X_test[[0]]"
   ]
  },
  {
   "cell_type": "code",
   "execution_count": 18,
   "metadata": {},
   "outputs": [
    {
     "data": {
      "text/plain": [
       "array([[318, 115, 325, 109, 311, 108, 333, 112, 301, 110, 345, 155, 282,\n",
       "        149, 351, 206, 265, 194, 342, 245, 267, 238, 321, 254, 285, 252,\n",
       "        313, 322, 279, 323, 300, 382, 276, 383]])"
      ]
     },
     "execution_count": 18,
     "metadata": {},
     "output_type": "execute_result"
    }
   ],
   "source": [
    "abc = np.array([[318, 115 ,  325, 109 ,  311, 108 ,  333, 112 ,  301, 110 ,  345, 155 ,  282, 149 ,  351, 206 ,  265, 194 ,  342, 245 ,  267, 238 ,  321, 254 ,  285, 252 ,  313, 322 ,  279, 323 ,  300, 382 ,  276, 383]])\n",
    "abc"
   ]
  },
  {
   "cell_type": "code",
   "execution_count": 19,
   "metadata": {},
   "outputs": [
    {
     "data": {
      "text/plain": [
       "array(['standing'], dtype=object)"
      ]
     },
     "execution_count": 19,
     "metadata": {},
     "output_type": "execute_result"
    }
   ],
   "source": [
    "preds = xgb_model_loaded.predict(abc)\n",
    "preds"
   ]
  },
  {
   "cell_type": "code",
   "execution_count": null,
   "metadata": {},
   "outputs": [],
   "source": []
  }
 ],
 "metadata": {
  "kernelspec": {
   "display_name": "Python 3",
   "language": "python",
   "name": "python3"
  },
  "language_info": {
   "codemirror_mode": {
    "name": "ipython",
    "version": 3
   },
   "file_extension": ".py",
   "mimetype": "text/x-python",
   "name": "python",
   "nbconvert_exporter": "python",
   "pygments_lexer": "ipython3",
   "version": "3.7.10"
  }
 },
 "nbformat": 4,
 "nbformat_minor": 2
}

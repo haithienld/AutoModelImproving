{
 "cells": [
  {
   "cell_type": "markdown",
   "metadata": {},
   "source": [
    "# Identifying Yoga Poses"
   ]
  },
  {
   "cell_type": "markdown",
   "metadata": {},
   "source": [
    "We've collected a few samples for each pose we'd like to categorize, and we need to learn how to identify which pose the user is in. We first used our tflite convolutional pose machine model to obtain a graphical representation of the poses we collected. This will produce a 28 point array of the various body part coordinates in each sample. We'll save this array along with its correct pose label to construct a dataset. First, let's import all the libraries we'll be using."
   ]
  },
  {
   "cell_type": "code",
   "execution_count": 1,
   "metadata": {},
   "outputs": [],
   "source": [
    "%matplotlib inline\n",
    "\n",
    "import pickle\n",
    "import multiprocessing\n",
    "import numpy as np\n",
    "import pandas as pd\n",
    "import xgboost as xgb\n",
    "import matplotlib.pyplot as plt\n",
    "from xgboost import XGBClassifier\n",
    "from sklearn.model_selection import train_test_split\n",
    "from sklearn.metrics import confusion_matrix"
   ]
  },
  {
   "cell_type": "code",
   "execution_count": 2,
   "metadata": {},
   "outputs": [
    {
     "name": "stdout",
     "output_type": "stream",
     "text": [
      "Requirement already satisfied: xgboost in /home/tommy/anaconda3/envs/demo/lib/python3.7/site-packages (1.4.2)\r\n",
      "Requirement already satisfied: scipy in /home/tommy/anaconda3/envs/demo/lib/python3.7/site-packages (from xgboost) (1.6.3)\r\n",
      "Requirement already satisfied: numpy in /home/tommy/anaconda3/envs/demo/lib/python3.7/site-packages (from xgboost) (1.20.1)\r\n"
     ]
    }
   ],
   "source": [
    "!pip install xgboost"
   ]
  },
  {
   "cell_type": "markdown",
   "metadata": {},
   "source": [
    "Let's load our data and take a peak at what those samples look like."
   ]
  },
  {
   "cell_type": "markdown",
   "metadata": {},
   "source": [
    "Format the data so we can feed it to a model."
   ]
  },
  {
   "cell_type": "code",
   "execution_count": 3,
   "metadata": {},
   "outputs": [
    {
     "data": {
      "text/html": [
       "<div>\n",
       "<style scoped>\n",
       "    .dataframe tbody tr th:only-of-type {\n",
       "        vertical-align: middle;\n",
       "    }\n",
       "\n",
       "    .dataframe tbody tr th {\n",
       "        vertical-align: top;\n",
       "    }\n",
       "\n",
       "    .dataframe thead th {\n",
       "        text-align: right;\n",
       "    }\n",
       "</style>\n",
       "<table border=\"1\" class=\"dataframe\">\n",
       "  <thead>\n",
       "    <tr style=\"text-align: right;\">\n",
       "      <th></th>\n",
       "      <th>0</th>\n",
       "      <th>1</th>\n",
       "      <th>2</th>\n",
       "      <th>3</th>\n",
       "      <th>4</th>\n",
       "      <th>5</th>\n",
       "      <th>6</th>\n",
       "      <th>7</th>\n",
       "      <th>8</th>\n",
       "      <th>9</th>\n",
       "      <th>...</th>\n",
       "      <th>27</th>\n",
       "      <th>28</th>\n",
       "      <th>29</th>\n",
       "      <th>30</th>\n",
       "      <th>31</th>\n",
       "      <th>32</th>\n",
       "      <th>33</th>\n",
       "      <th>34</th>\n",
       "      <th>35</th>\n",
       "      <th>36</th>\n",
       "    </tr>\n",
       "  </thead>\n",
       "  <tbody>\n",
       "    <tr>\n",
       "      <th>0</th>\n",
       "      <td>43</td>\n",
       "      <td>2021-06-0311:43:27.736508</td>\n",
       "      <td>290</td>\n",
       "      <td>238</td>\n",
       "      <td>305</td>\n",
       "      <td>218</td>\n",
       "      <td>270</td>\n",
       "      <td>220</td>\n",
       "      <td>322</td>\n",
       "      <td>227</td>\n",
       "      <td>...</td>\n",
       "      <td>0</td>\n",
       "      <td>0</td>\n",
       "      <td>0</td>\n",
       "      <td>0</td>\n",
       "      <td>0</td>\n",
       "      <td>0</td>\n",
       "      <td>0</td>\n",
       "      <td>0</td>\n",
       "      <td>0</td>\n",
       "      <td>wave_2hand</td>\n",
       "    </tr>\n",
       "    <tr>\n",
       "      <th>1</th>\n",
       "      <td>44</td>\n",
       "      <td>2021-06-0311:43:27.805804</td>\n",
       "      <td>289</td>\n",
       "      <td>238</td>\n",
       "      <td>304</td>\n",
       "      <td>219</td>\n",
       "      <td>268</td>\n",
       "      <td>219</td>\n",
       "      <td>321</td>\n",
       "      <td>227</td>\n",
       "      <td>...</td>\n",
       "      <td>0</td>\n",
       "      <td>0</td>\n",
       "      <td>0</td>\n",
       "      <td>0</td>\n",
       "      <td>0</td>\n",
       "      <td>0</td>\n",
       "      <td>0</td>\n",
       "      <td>0</td>\n",
       "      <td>0</td>\n",
       "      <td>wave_2hand</td>\n",
       "    </tr>\n",
       "    <tr>\n",
       "      <th>2</th>\n",
       "      <td>45</td>\n",
       "      <td>2021-06-0311:43:27.870116</td>\n",
       "      <td>289</td>\n",
       "      <td>238</td>\n",
       "      <td>304</td>\n",
       "      <td>218</td>\n",
       "      <td>268</td>\n",
       "      <td>220</td>\n",
       "      <td>321</td>\n",
       "      <td>227</td>\n",
       "      <td>...</td>\n",
       "      <td>0</td>\n",
       "      <td>0</td>\n",
       "      <td>0</td>\n",
       "      <td>0</td>\n",
       "      <td>0</td>\n",
       "      <td>0</td>\n",
       "      <td>0</td>\n",
       "      <td>0</td>\n",
       "      <td>0</td>\n",
       "      <td>wave_2hand</td>\n",
       "    </tr>\n",
       "    <tr>\n",
       "      <th>3</th>\n",
       "      <td>46</td>\n",
       "      <td>2021-06-0311:43:27.934738</td>\n",
       "      <td>290</td>\n",
       "      <td>237</td>\n",
       "      <td>305</td>\n",
       "      <td>218</td>\n",
       "      <td>268</td>\n",
       "      <td>221</td>\n",
       "      <td>321</td>\n",
       "      <td>226</td>\n",
       "      <td>...</td>\n",
       "      <td>480</td>\n",
       "      <td>0</td>\n",
       "      <td>0</td>\n",
       "      <td>0</td>\n",
       "      <td>0</td>\n",
       "      <td>0</td>\n",
       "      <td>0</td>\n",
       "      <td>0</td>\n",
       "      <td>0</td>\n",
       "      <td>wave_2hand</td>\n",
       "    </tr>\n",
       "    <tr>\n",
       "      <th>4</th>\n",
       "      <td>47</td>\n",
       "      <td>2021-06-0311:43:27.999255</td>\n",
       "      <td>290</td>\n",
       "      <td>237</td>\n",
       "      <td>304</td>\n",
       "      <td>218</td>\n",
       "      <td>270</td>\n",
       "      <td>220</td>\n",
       "      <td>321</td>\n",
       "      <td>227</td>\n",
       "      <td>...</td>\n",
       "      <td>0</td>\n",
       "      <td>0</td>\n",
       "      <td>0</td>\n",
       "      <td>0</td>\n",
       "      <td>0</td>\n",
       "      <td>0</td>\n",
       "      <td>0</td>\n",
       "      <td>0</td>\n",
       "      <td>0</td>\n",
       "      <td>wave_2hand</td>\n",
       "    </tr>\n",
       "    <tr>\n",
       "      <th>...</th>\n",
       "      <td>...</td>\n",
       "      <td>...</td>\n",
       "      <td>...</td>\n",
       "      <td>...</td>\n",
       "      <td>...</td>\n",
       "      <td>...</td>\n",
       "      <td>...</td>\n",
       "      <td>...</td>\n",
       "      <td>...</td>\n",
       "      <td>...</td>\n",
       "      <td>...</td>\n",
       "      <td>...</td>\n",
       "      <td>...</td>\n",
       "      <td>...</td>\n",
       "      <td>...</td>\n",
       "      <td>...</td>\n",
       "      <td>...</td>\n",
       "      <td>...</td>\n",
       "      <td>...</td>\n",
       "      <td>...</td>\n",
       "      <td>...</td>\n",
       "    </tr>\n",
       "    <tr>\n",
       "      <th>1851</th>\n",
       "      <td>396</td>\n",
       "      <td>2021-03-0407:50:39.658752</td>\n",
       "      <td>352</td>\n",
       "      <td>112</td>\n",
       "      <td>357</td>\n",
       "      <td>106</td>\n",
       "      <td>345</td>\n",
       "      <td>106</td>\n",
       "      <td>367</td>\n",
       "      <td>111</td>\n",
       "      <td>...</td>\n",
       "      <td>241</td>\n",
       "      <td>375</td>\n",
       "      <td>300</td>\n",
       "      <td>340</td>\n",
       "      <td>304</td>\n",
       "      <td>373</td>\n",
       "      <td>357</td>\n",
       "      <td>344</td>\n",
       "      <td>356</td>\n",
       "      <td>standing</td>\n",
       "    </tr>\n",
       "    <tr>\n",
       "      <th>1852</th>\n",
       "      <td>397</td>\n",
       "      <td>2021-03-0407:50:39.822464</td>\n",
       "      <td>355</td>\n",
       "      <td>110</td>\n",
       "      <td>362</td>\n",
       "      <td>104</td>\n",
       "      <td>349</td>\n",
       "      <td>103</td>\n",
       "      <td>371</td>\n",
       "      <td>110</td>\n",
       "      <td>...</td>\n",
       "      <td>241</td>\n",
       "      <td>376</td>\n",
       "      <td>300</td>\n",
       "      <td>343</td>\n",
       "      <td>302</td>\n",
       "      <td>370</td>\n",
       "      <td>358</td>\n",
       "      <td>348</td>\n",
       "      <td>357</td>\n",
       "      <td>standing</td>\n",
       "    </tr>\n",
       "    <tr>\n",
       "      <th>1853</th>\n",
       "      <td>398</td>\n",
       "      <td>2021-03-0407:50:39.988838</td>\n",
       "      <td>358</td>\n",
       "      <td>110</td>\n",
       "      <td>365</td>\n",
       "      <td>104</td>\n",
       "      <td>352</td>\n",
       "      <td>104</td>\n",
       "      <td>373</td>\n",
       "      <td>109</td>\n",
       "      <td>...</td>\n",
       "      <td>242</td>\n",
       "      <td>379</td>\n",
       "      <td>301</td>\n",
       "      <td>342</td>\n",
       "      <td>303</td>\n",
       "      <td>374</td>\n",
       "      <td>359</td>\n",
       "      <td>346</td>\n",
       "      <td>356</td>\n",
       "      <td>standing</td>\n",
       "    </tr>\n",
       "    <tr>\n",
       "      <th>1854</th>\n",
       "      <td>399</td>\n",
       "      <td>2021-03-0407:50:40.155831</td>\n",
       "      <td>359</td>\n",
       "      <td>110</td>\n",
       "      <td>366</td>\n",
       "      <td>104</td>\n",
       "      <td>353</td>\n",
       "      <td>103</td>\n",
       "      <td>374</td>\n",
       "      <td>108</td>\n",
       "      <td>...</td>\n",
       "      <td>243</td>\n",
       "      <td>378</td>\n",
       "      <td>300</td>\n",
       "      <td>343</td>\n",
       "      <td>302</td>\n",
       "      <td>374</td>\n",
       "      <td>359</td>\n",
       "      <td>346</td>\n",
       "      <td>356</td>\n",
       "      <td>standing</td>\n",
       "    </tr>\n",
       "    <tr>\n",
       "      <th>1855</th>\n",
       "      <td>400</td>\n",
       "      <td>2021-03-0407:50:40.341337</td>\n",
       "      <td>358</td>\n",
       "      <td>109</td>\n",
       "      <td>365</td>\n",
       "      <td>104</td>\n",
       "      <td>353</td>\n",
       "      <td>103</td>\n",
       "      <td>374</td>\n",
       "      <td>108</td>\n",
       "      <td>...</td>\n",
       "      <td>244</td>\n",
       "      <td>378</td>\n",
       "      <td>301</td>\n",
       "      <td>342</td>\n",
       "      <td>302</td>\n",
       "      <td>374</td>\n",
       "      <td>359</td>\n",
       "      <td>345</td>\n",
       "      <td>357</td>\n",
       "      <td>standing</td>\n",
       "    </tr>\n",
       "  </tbody>\n",
       "</table>\n",
       "<p>1856 rows × 37 columns</p>\n",
       "</div>"
      ],
      "text/plain": [
       "       0                          1    2    3    4    5    6    7    8    9   \\\n",
       "0      43  2021-06-0311:43:27.736508  290  238  305  218  270  220  322  227   \n",
       "1      44  2021-06-0311:43:27.805804  289  238  304  219  268  219  321  227   \n",
       "2      45  2021-06-0311:43:27.870116  289  238  304  218  268  220  321  227   \n",
       "3      46  2021-06-0311:43:27.934738  290  237  305  218  268  221  321  226   \n",
       "4      47  2021-06-0311:43:27.999255  290  237  304  218  270  220  321  227   \n",
       "...   ...                        ...  ...  ...  ...  ...  ...  ...  ...  ...   \n",
       "1851  396  2021-03-0407:50:39.658752  352  112  357  106  345  106  367  111   \n",
       "1852  397  2021-03-0407:50:39.822464  355  110  362  104  349  103  371  110   \n",
       "1853  398  2021-03-0407:50:39.988838  358  110  365  104  352  104  373  109   \n",
       "1854  399  2021-03-0407:50:40.155831  359  110  366  104  353  103  374  108   \n",
       "1855  400  2021-03-0407:50:40.341337  358  109  365  104  353  103  374  108   \n",
       "\n",
       "      ...   27   28   29   30   31   32   33   34   35          36  \n",
       "0     ...    0    0    0    0    0    0    0    0    0  wave_2hand  \n",
       "1     ...    0    0    0    0    0    0    0    0    0  wave_2hand  \n",
       "2     ...    0    0    0    0    0    0    0    0    0  wave_2hand  \n",
       "3     ...  480    0    0    0    0    0    0    0    0  wave_2hand  \n",
       "4     ...    0    0    0    0    0    0    0    0    0  wave_2hand  \n",
       "...   ...  ...  ...  ...  ...  ...  ...  ...  ...  ...         ...  \n",
       "1851  ...  241  375  300  340  304  373  357  344  356    standing  \n",
       "1852  ...  241  376  300  343  302  370  358  348  357    standing  \n",
       "1853  ...  242  379  301  342  303  374  359  346  356    standing  \n",
       "1854  ...  243  378  300  343  302  374  359  346  356    standing  \n",
       "1855  ...  244  378  301  342  302  374  359  345  357    standing  \n",
       "\n",
       "[1856 rows x 37 columns]"
      ]
     },
     "execution_count": 3,
     "metadata": {},
     "output_type": "execute_result"
    }
   ],
   "source": [
    "dataset = pd.read_csv('poses_standard.csv', header = None )#(index_col=0)\n",
    "dataset"
   ]
  },
  {
   "cell_type": "code",
   "execution_count": 4,
   "metadata": {},
   "outputs": [
    {
     "data": {
      "text/plain": [
       "(array([[290, 238, 305, ...,   0,   0,   0],\n",
       "        [289, 238, 304, ...,   0,   0,   0],\n",
       "        [289, 238, 304, ...,   0,   0,   0],\n",
       "        ...,\n",
       "        [358, 110, 365, ..., 359, 346, 356],\n",
       "        [359, 110, 366, ..., 359, 346, 356],\n",
       "        [358, 109, 365, ..., 359, 345, 357]]),\n",
       " array(['wave_2hand', 'wave_2hand', 'wave_2hand', ..., 'standing',\n",
       "        'standing', 'standing'], dtype=object))"
      ]
     },
     "execution_count": 4,
     "metadata": {},
     "output_type": "execute_result"
    }
   ],
   "source": [
    "# Spliting the points and the labels\n",
    "#with file poses_standard.csv 36 column\n",
    "#X = dataset.iloc[:, 2:-1].values  \n",
    "#y = dataset.iloc[:, 36].values\n",
    "#with file poses 38 column\n",
    "X = dataset.iloc[:, 2:-1].values  \n",
    "y = dataset.iloc[:, 36].values\n",
    "X,y"
   ]
  },
  {
   "cell_type": "code",
   "execution_count": 5,
   "metadata": {},
   "outputs": [
    {
     "data": {
      "text/plain": [
       "((1670, 34), (1670,), (186, 34), (186,))"
      ]
     },
     "execution_count": 5,
     "metadata": {},
     "output_type": "execute_result"
    }
   ],
   "source": [
    "# And split the data into appropriate data sets\n",
    "X_train, X_test, y_train, y_test = train_test_split(X, y, test_size=0.10) \n",
    "X_test\n",
    "X_train.shape,y_train.shape,X_test.shape,y_test.shape"
   ]
  },
  {
   "cell_type": "code",
   "execution_count": 6,
   "metadata": {},
   "outputs": [
    {
     "data": {
      "text/plain": [
       "3"
      ]
     },
     "execution_count": 6,
     "metadata": {},
     "output_type": "execute_result"
    }
   ],
   "source": [
    "class_names = list(set(y))\n",
    "num_class = len(class_names)\n",
    "cores = multiprocessing.cpu_count()\n",
    "num_class"
   ]
  },
  {
   "cell_type": "markdown",
   "metadata": {},
   "source": [
    "Our data is ready to feed it to a model! Our first approach will be to classify which pose the user is currently in. If the user is not in the correct pose, we'll give them some advice on how to execute it. As we progress, we'll want to think about how to evaluate the user's pose, ie. how well are they execuring the pose. But for now, let's just determine if a user is in the right pose.\n",
    "\n",
    "We'll try XGBoost. This algorithm is an implementation of gradient boosted decision trees. It ensembles many decision trees into one model - making it more accurate as a collection of trees.\n",
    "\n",
    "XGBoost is very fast and it has more parameters to tune to improve the model. Feel free to pay with the learning_rate, n_estimators, etc to get better results. Also keep in mind that more data never hurts."
   ]
  },
  {
   "cell_type": "code",
   "execution_count": 7,
   "metadata": {},
   "outputs": [],
   "source": [
    "clf = XGBClassifier(max_depth=6, \n",
    "                    learning_rate=0.01, \n",
    "                    n_estimators=500, \n",
    "                    objective='multi:softmax', \n",
    "                    n_jobs=cores, \n",
    "                    num_class=num_class)"
   ]
  },
  {
   "cell_type": "code",
   "execution_count": 8,
   "metadata": {},
   "outputs": [
    {
     "name": "stderr",
     "output_type": "stream",
     "text": [
      "/home/tommy/anaconda3/envs/demo/lib/python3.7/site-packages/xgboost/sklearn.py:1146: UserWarning: The use of label encoder in XGBClassifier is deprecated and will be removed in a future release. To remove this warning, do the following: 1) Pass option use_label_encoder=False when constructing XGBClassifier object; and 2) Encode your labels (y) as integers starting with 0, i.e. 0, 1, 2, ..., [num_class - 1].\n",
      "  warnings.warn(label_encoder_deprecation_msg, UserWarning)\n"
     ]
    },
    {
     "name": "stdout",
     "output_type": "stream",
     "text": [
      "[21:14:41] WARNING: ../src/learner.cc:1095: Starting in XGBoost 1.3.0, the default evaluation metric used with the objective 'multi:softprob' was changed from 'merror' to 'mlogloss'. Explicitly set eval_metric if you'd like to restore the old behavior.\n"
     ]
    }
   ],
   "source": [
    "from sklearn.metrics import accuracy_score\n",
    "\n",
    "model = XGBClassifier()\n",
    "model.fit(X_train, y_train)\n",
    "# make predictions for test data\n",
    "y_pred = model.predict(X_test)\n",
    "predictions = [value for value in y_pred]\n",
    "# evaluate predictions\n",
    "accuracy = accuracy_score(y_test, predictions)"
   ]
  },
  {
   "cell_type": "code",
   "execution_count": 9,
   "metadata": {},
   "outputs": [
    {
     "name": "stderr",
     "output_type": "stream",
     "text": [
      "/home/tommy/anaconda3/envs/demo/lib/python3.7/site-packages/xgboost/sklearn.py:1146: UserWarning: The use of label encoder in XGBClassifier is deprecated and will be removed in a future release. To remove this warning, do the following: 1) Pass option use_label_encoder=False when constructing XGBClassifier object; and 2) Encode your labels (y) as integers starting with 0, i.e. 0, 1, 2, ..., [num_class - 1].\n",
      "  warnings.warn(label_encoder_deprecation_msg, UserWarning)\n"
     ]
    },
    {
     "name": "stdout",
     "output_type": "stream",
     "text": [
      "[21:14:42] WARNING: ../src/learner.cc:1095: Starting in XGBoost 1.3.0, the default evaluation metric used with the objective 'multi:softprob' was changed from 'merror' to 'mlogloss'. Explicitly set eval_metric if you'd like to restore the old behavior.\n"
     ]
    },
    {
     "data": {
      "text/plain": [
       "['wave_2hand',\n",
       " 'wave_2hand',\n",
       " 'standing',\n",
       " 'standing',\n",
       " 'up_down',\n",
       " 'up_down',\n",
       " 'standing',\n",
       " 'wave_2hand',\n",
       " 'wave_2hand',\n",
       " 'wave_2hand',\n",
       " 'wave_2hand',\n",
       " 'wave_2hand',\n",
       " 'up_down',\n",
       " 'up_down',\n",
       " 'wave_2hand',\n",
       " 'wave_2hand',\n",
       " 'wave_2hand',\n",
       " 'wave_2hand',\n",
       " 'wave_2hand',\n",
       " 'up_down',\n",
       " 'standing',\n",
       " 'standing',\n",
       " 'wave_2hand',\n",
       " 'up_down',\n",
       " 'standing',\n",
       " 'up_down',\n",
       " 'wave_2hand',\n",
       " 'wave_2hand',\n",
       " 'standing',\n",
       " 'standing',\n",
       " 'standing',\n",
       " 'wave_2hand',\n",
       " 'wave_2hand',\n",
       " 'wave_2hand',\n",
       " 'wave_2hand',\n",
       " 'standing',\n",
       " 'wave_2hand',\n",
       " 'up_down',\n",
       " 'standing',\n",
       " 'wave_2hand',\n",
       " 'wave_2hand',\n",
       " 'up_down',\n",
       " 'standing',\n",
       " 'wave_2hand',\n",
       " 'wave_2hand',\n",
       " 'wave_2hand',\n",
       " 'wave_2hand',\n",
       " 'standing',\n",
       " 'wave_2hand',\n",
       " 'wave_2hand',\n",
       " 'standing',\n",
       " 'wave_2hand',\n",
       " 'wave_2hand',\n",
       " 'standing',\n",
       " 'wave_2hand',\n",
       " 'wave_2hand',\n",
       " 'standing',\n",
       " 'wave_2hand',\n",
       " 'wave_2hand',\n",
       " 'wave_2hand',\n",
       " 'standing',\n",
       " 'wave_2hand',\n",
       " 'up_down',\n",
       " 'wave_2hand',\n",
       " 'up_down',\n",
       " 'wave_2hand',\n",
       " 'wave_2hand',\n",
       " 'up_down',\n",
       " 'standing',\n",
       " 'standing',\n",
       " 'wave_2hand',\n",
       " 'wave_2hand',\n",
       " 'standing',\n",
       " 'standing',\n",
       " 'wave_2hand',\n",
       " 'standing',\n",
       " 'wave_2hand',\n",
       " 'wave_2hand',\n",
       " 'wave_2hand',\n",
       " 'wave_2hand',\n",
       " 'wave_2hand',\n",
       " 'standing',\n",
       " 'wave_2hand',\n",
       " 'wave_2hand',\n",
       " 'wave_2hand',\n",
       " 'wave_2hand',\n",
       " 'wave_2hand',\n",
       " 'wave_2hand',\n",
       " 'wave_2hand',\n",
       " 'up_down',\n",
       " 'wave_2hand',\n",
       " 'wave_2hand',\n",
       " 'wave_2hand',\n",
       " 'wave_2hand',\n",
       " 'wave_2hand',\n",
       " 'wave_2hand',\n",
       " 'wave_2hand',\n",
       " 'wave_2hand',\n",
       " 'wave_2hand',\n",
       " 'up_down',\n",
       " 'standing',\n",
       " 'standing',\n",
       " 'wave_2hand',\n",
       " 'wave_2hand',\n",
       " 'wave_2hand',\n",
       " 'standing',\n",
       " 'wave_2hand',\n",
       " 'standing',\n",
       " 'standing',\n",
       " 'wave_2hand',\n",
       " 'wave_2hand',\n",
       " 'wave_2hand',\n",
       " 'wave_2hand',\n",
       " 'standing',\n",
       " 'wave_2hand',\n",
       " 'wave_2hand',\n",
       " 'wave_2hand',\n",
       " 'wave_2hand',\n",
       " 'wave_2hand',\n",
       " 'wave_2hand',\n",
       " 'wave_2hand',\n",
       " 'wave_2hand',\n",
       " 'standing',\n",
       " 'standing',\n",
       " 'standing',\n",
       " 'wave_2hand',\n",
       " 'wave_2hand',\n",
       " 'up_down',\n",
       " 'up_down',\n",
       " 'up_down',\n",
       " 'up_down',\n",
       " 'up_down',\n",
       " 'standing',\n",
       " 'up_down',\n",
       " 'standing',\n",
       " 'up_down',\n",
       " 'wave_2hand',\n",
       " 'wave_2hand',\n",
       " 'wave_2hand',\n",
       " 'up_down',\n",
       " 'wave_2hand',\n",
       " 'wave_2hand',\n",
       " 'wave_2hand',\n",
       " 'wave_2hand',\n",
       " 'wave_2hand',\n",
       " 'standing',\n",
       " 'wave_2hand',\n",
       " 'up_down',\n",
       " 'wave_2hand',\n",
       " 'wave_2hand',\n",
       " 'wave_2hand',\n",
       " 'wave_2hand',\n",
       " 'wave_2hand',\n",
       " 'standing',\n",
       " 'wave_2hand',\n",
       " 'wave_2hand',\n",
       " 'wave_2hand',\n",
       " 'up_down',\n",
       " 'wave_2hand',\n",
       " 'wave_2hand',\n",
       " 'wave_2hand',\n",
       " 'wave_2hand',\n",
       " 'wave_2hand',\n",
       " 'wave_2hand',\n",
       " 'standing',\n",
       " 'up_down',\n",
       " 'up_down',\n",
       " 'standing',\n",
       " 'wave_2hand',\n",
       " 'wave_2hand',\n",
       " 'wave_2hand',\n",
       " 'wave_2hand',\n",
       " 'up_down',\n",
       " 'wave_2hand',\n",
       " 'standing',\n",
       " 'wave_2hand',\n",
       " 'standing',\n",
       " 'wave_2hand',\n",
       " 'wave_2hand',\n",
       " 'wave_2hand',\n",
       " 'wave_2hand',\n",
       " 'wave_2hand',\n",
       " 'up_down',\n",
       " 'standing',\n",
       " 'standing',\n",
       " 'standing']"
      ]
     },
     "execution_count": 9,
     "metadata": {},
     "output_type": "execute_result"
    }
   ],
   "source": [
    "clf.fit(X_train, y_train)\n",
    "preds = clf.predict(X_test)\n",
    "predictions = [value for value in preds]\n",
    "predictions"
   ]
  },
  {
   "cell_type": "markdown",
   "metadata": {},
   "source": [
    "We can see how well the model is grouping samples by printing the confusion matrix of the model. The confusion matrix will show us how often the model gets confused about a sample and misclassifies it AND to what it misclassifies.\n",
    "\n",
    "We'll also look at the classification report which will give us the recall and precision among other stats for each label"
   ]
  },
  {
   "cell_type": "code",
   "execution_count": 10,
   "metadata": {},
   "outputs": [
    {
     "name": "stdout",
     "output_type": "stream",
     "text": [
      "[[ 43   0   1]\n",
      " [  0  28   0]\n",
      " [  0   0 114]]\n",
      "              precision    recall  f1-score   support\n",
      "\n",
      "    standing       1.00      0.98      0.99        44\n",
      "     up_down       1.00      1.00      1.00        28\n",
      "  wave_2hand       0.99      1.00      1.00       114\n",
      "\n",
      "    accuracy                           0.99       186\n",
      "   macro avg       1.00      0.99      0.99       186\n",
      "weighted avg       0.99      0.99      0.99       186\n",
      "\n"
     ]
    }
   ],
   "source": [
    "from sklearn.metrics import confusion_matrix, classification_report\n",
    "\n",
    "conf_matrix = confusion_matrix(y_test, preds)\n",
    "print(conf_matrix)\n",
    "\n",
    "class_report = classification_report(y_test, preds)\n",
    "print(class_report)"
   ]
  },
  {
   "cell_type": "code",
   "execution_count": 11,
   "metadata": {},
   "outputs": [
    {
     "data": {
      "text/plain": [
       "['wave_2hand']"
      ]
     },
     "execution_count": 11,
     "metadata": {},
     "output_type": "execute_result"
    }
   ],
   "source": [
    "preds = clf.predict(X_test[[0]])\n",
    "predictions = [value for value in preds]\n",
    "predictions"
   ]
  },
  {
   "cell_type": "markdown",
   "metadata": {},
   "source": [
    "And to get a better view let's graph the confusion matrix."
   ]
  },
  {
   "cell_type": "code",
   "execution_count": 12,
   "metadata": {},
   "outputs": [],
   "source": [
    "import itertools\n",
    "from sklearn.metrics import plot_confusion_matrix\n",
    "def plot_confusion_matrix(cm, classes,\n",
    "                          normalize=True,\n",
    "                          title='Confusion matrix',\n",
    "                          cmap=plt.cm.Blues):\n",
    "    \"\"\"\n",
    "    This function prints and plots the confusion matrix.\n",
    "    Normalization can be applied by setting `normalize=True`.\n",
    "    \"\"\"\n",
    "    if normalize:\n",
    "        cm = cm.astype('float') / cm.sum(axis=1)[:, np.newaxis]\n",
    "\n",
    "    plt.imshow(cm, interpolation='nearest', cmap=cmap, aspect='auto')\n",
    "    plt.title(title)\n",
    "    plt.colorbar()\n",
    "    tick_marks = np.arange(len(classes))\n",
    "    plt.xticks(tick_marks, rotation=45)\n",
    "    plt.yticks(tick_marks)\n",
    "\n",
    "    plt.ylabel('True label')\n",
    "    plt.xlabel('Predicted label')\n",
    "    plt.tight_layout()"
   ]
  },
  {
   "cell_type": "code",
   "execution_count": 13,
   "metadata": {
    "scrolled": true
   },
   "outputs": [
    {
     "data": {
      "image/png": "[encoded data removed]",
      "text/plain": [
       "<Figure size 432x288 with 2 Axes>"
      ]
     },
     "metadata": {
      "needs_background": "light"
     },
     "output_type": "display_data"
    },
    {
     "name": "stdout",
     "output_type": "stream",
     "text": [
      "Classes:  ['standing', 'up_down', 'wave_2hand']\n"
     ]
    }
   ],
   "source": [
    "plot_confusion_matrix(conf_matrix, classes=sorted(class_names), normalize=True,\n",
    "                      title='Normalized confusion matrix')\n",
    "plt.show()\n",
    "print('Classes: ', sorted(class_names))"
   ]
  },
  {
   "cell_type": "markdown",
   "metadata": {},
   "source": [
    "Dark blue on the diagonal is what we're aiming for. We can see the model is really good at predicting tree_pose but warrior_1 gets confused with crescent_lunge and warrior_3 poses. However, this is a great start classifying a handful of distinct poses. We want to save the model to file so we can run inference while our virtual instructor is running."
   ]
  },
  {
   "cell_type": "code",
   "execution_count": 14,
   "metadata": {},
   "outputs": [],
   "source": [
    "filename = '../models/yoga_poses_wave.sav'\n",
    "pickle.dump(clf, open(filename, 'wb'))"
   ]
  },
  {
   "cell_type": "code",
   "execution_count": 15,
   "metadata": {},
   "outputs": [],
   "source": [
    "xgb_model_loaded = pickle.load(open(filename, \"rb\"))"
   ]
  },
  {
   "cell_type": "code",
   "execution_count": 16,
   "metadata": {},
   "outputs": [],
   "source": [
    "preds = xgb_model_loaded.predict(X_test[[0]])\n",
    "predictions = [value for value in preds]"
   ]
  },
  {
   "cell_type": "code",
   "execution_count": 17,
   "metadata": {},
   "outputs": [
    {
     "data": {
      "text/plain": [
       "['wave_2hand']"
      ]
     },
     "execution_count": 17,
     "metadata": {},
     "output_type": "execute_result"
    }
   ],
   "source": [
    "predictions"
   ]
  },
  {
   "cell_type": "code",
   "execution_count": 18,
   "metadata": {},
   "outputs": [
    {
     "data": {
      "text/plain": [
       "array([[301, 110, 308, 105, 294, 104, 315, 109, 281, 106, 326, 148, 259,\n",
       "        140, 364, 151, 219, 133, 364, 108, 222,  92, 306, 246, 262, 245,\n",
       "        307, 326, 247, 320, 304, 391, 239, 384]])"
      ]
     },
     "execution_count": 18,
     "metadata": {},
     "output_type": "execute_result"
    }
   ],
   "source": [
    "X_test[[0]]"
   ]
  },
  {
   "cell_type": "code",
   "execution_count": 19,
   "metadata": {},
   "outputs": [
    {
     "data": {
      "text/plain": [
       "array([[318, 115, 325, 109, 311, 108, 333, 112, 301, 110, 345, 155, 282,\n",
       "        149, 351, 206, 265, 194, 342, 245, 267, 238, 321, 254, 285, 252,\n",
       "        313, 322, 279, 323, 300, 382, 276, 383]])"
      ]
     },
     "execution_count": 19,
     "metadata": {},
     "output_type": "execute_result"
    }
   ],
   "source": [
    "abc = np.array([[318, 115 ,  325, 109 ,  311, 108 ,  333, 112 ,  301, 110 ,  345, 155 ,  282, 149 ,  351, 206 ,  265, 194 ,  342, 245 ,  267, 238 ,  321, 254 ,  285, 252 ,  313, 322 ,  279, 323 ,  300, 382 ,  276, 383]])\n",
    "abc"
   ]
  },
  {
   "cell_type": "code",
   "execution_count": 20,
   "metadata": {},
   "outputs": [
    {
     "data": {
      "text/plain": [
       "array(['wave_2hand'], dtype=object)"
      ]
     },
     "execution_count": 20,
     "metadata": {},
     "output_type": "execute_result"
    }
   ],
   "source": [
    "preds = xgb_model_loaded.predict(abc)\n",
    "preds"
   ]
  },
  {
   "cell_type": "code",
   "execution_count": null,
   "metadata": {},
   "outputs": [],
   "source": []
  },
  {
   "cell_type": "code",
   "execution_count": null,
   "metadata": {},
   "outputs": [],
   "source": []
  }
 ],
 "metadata": {
  "kernelspec": {
   "display_name": "Python 3",
   "language": "python",
   "name": "python3"
  },
  "language_info": {
   "codemirror_mode": {
    "name": "ipython",
    "version": 3
   },
   "file_extension": ".py",
   "mimetype": "text/x-python",
   "name": "python",
   "nbconvert_exporter": "python",
   "pygments_lexer": "ipython3",
   "version": "3.7.10"
  }
 },
 "nbformat": 4,
 "nbformat_minor": 2
}
